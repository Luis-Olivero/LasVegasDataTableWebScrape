{
 "cells": [
  {
   "cell_type": "code",
   "execution_count": 1,
   "id": "1219b6f1",
   "metadata": {},
   "outputs": [
    {
     "data": {
      "text/plain": [
       "24"
      ]
     },
     "execution_count": 1,
     "metadata": {},
     "output_type": "execute_result"
    }
   ],
   "source": [
    "import pandas as pd\n",
    "\n",
    "tables = pd.read_html('https://en.wikipedia.org/wiki/Las_Vegas')\n",
    "\n",
    "len(tables)"
   ]
  },
  {
   "cell_type": "code",
   "execution_count": 2,
   "id": "139836dc",
   "metadata": {},
   "outputs": [
    {
     "data": {
      "text/plain": [
       "24"
      ]
     },
     "execution_count": 2,
     "metadata": {},
     "output_type": "execute_result"
    }
   ],
   "source": [
    "len(tables)"
   ]
  },
  {
   "cell_type": "code",
   "execution_count": 10,
   "id": "d493b341",
   "metadata": {},
   "outputs": [
    {
     "data": {
      "text/html": [
       "<div>\n",
       "<style scoped>\n",
       "    .dataframe tbody tr th:only-of-type {\n",
       "        vertical-align: middle;\n",
       "    }\n",
       "\n",
       "    .dataframe tbody tr th {\n",
       "        vertical-align: top;\n",
       "    }\n",
       "\n",
       "    .dataframe thead th {\n",
       "        text-align: right;\n",
       "    }\n",
       "</style>\n",
       "<table border=\"1\" class=\"dataframe\">\n",
       "  <thead>\n",
       "    <tr style=\"text-align: right;\">\n",
       "      <th></th>\n",
       "      <th>Team</th>\n",
       "      <th>Sport</th>\n",
       "      <th>League</th>\n",
       "      <th>Venue (capacity)</th>\n",
       "      <th>Established</th>\n",
       "      <th>Titles</th>\n",
       "    </tr>\n",
       "  </thead>\n",
       "  <tbody>\n",
       "    <tr>\n",
       "      <th>0</th>\n",
       "      <td>Las Vegas Raiders</td>\n",
       "      <td>Football</td>\n",
       "      <td>NFL</td>\n",
       "      <td>Allegiant Stadium (65,000)</td>\n",
       "      <td>2020</td>\n",
       "      <td>3[c]</td>\n",
       "    </tr>\n",
       "    <tr>\n",
       "      <th>1</th>\n",
       "      <td>Vegas Golden Knights</td>\n",
       "      <td>Ice hockey</td>\n",
       "      <td>NHL</td>\n",
       "      <td>T-Mobile Arena (17,500)</td>\n",
       "      <td>2017</td>\n",
       "      <td>1</td>\n",
       "    </tr>\n",
       "    <tr>\n",
       "      <th>2</th>\n",
       "      <td>Las Vegas Aces</td>\n",
       "      <td>Women's basketball</td>\n",
       "      <td>WNBA</td>\n",
       "      <td>Michelob Ultra Arena (12,000)</td>\n",
       "      <td>2018</td>\n",
       "      <td>1</td>\n",
       "    </tr>\n",
       "  </tbody>\n",
       "</table>\n",
       "</div>"
      ],
      "text/plain": [
       "                   Team               Sport League  \\\n",
       "0     Las Vegas Raiders            Football    NFL   \n",
       "1  Vegas Golden Knights          Ice hockey    NHL   \n",
       "2        Las Vegas Aces  Women's basketball   WNBA   \n",
       "\n",
       "                Venue (capacity)  Established Titles  \n",
       "0     Allegiant Stadium (65,000)         2020   3[c]  \n",
       "1        T-Mobile Arena (17,500)         2017      1  \n",
       "2  Michelob Ultra Arena (12,000)         2018      1  "
      ]
     },
     "execution_count": 10,
     "metadata": {},
     "output_type": "execute_result"
    }
   ],
   "source": [
    "tables[5]"
   ]
  },
  {
   "cell_type": "code",
   "execution_count": 11,
   "id": "d295d07e",
   "metadata": {},
   "outputs": [],
   "source": [
    "df = tables[5]"
   ]
  },
  {
   "cell_type": "code",
   "execution_count": 13,
   "id": "21375a6d",
   "metadata": {},
   "outputs": [
    {
     "data": {
      "text/html": [
       "<div>\n",
       "<style scoped>\n",
       "    .dataframe tbody tr th:only-of-type {\n",
       "        vertical-align: middle;\n",
       "    }\n",
       "\n",
       "    .dataframe tbody tr th {\n",
       "        vertical-align: top;\n",
       "    }\n",
       "\n",
       "    .dataframe thead th {\n",
       "        text-align: right;\n",
       "    }\n",
       "</style>\n",
       "<table border=\"1\" class=\"dataframe\">\n",
       "  <thead>\n",
       "    <tr style=\"text-align: right;\">\n",
       "      <th></th>\n",
       "      <th>Team</th>\n",
       "      <th>Sport</th>\n",
       "      <th>League</th>\n",
       "      <th>Venue (capacity)</th>\n",
       "      <th>Established</th>\n",
       "      <th>Titles</th>\n",
       "    </tr>\n",
       "  </thead>\n",
       "  <tbody>\n",
       "    <tr>\n",
       "      <th>0</th>\n",
       "      <td>Las Vegas Raiders</td>\n",
       "      <td>Football</td>\n",
       "      <td>NFL</td>\n",
       "      <td>Allegiant Stadium (65,000)</td>\n",
       "      <td>2020</td>\n",
       "      <td>3[c]</td>\n",
       "    </tr>\n",
       "    <tr>\n",
       "      <th>1</th>\n",
       "      <td>Vegas Golden Knights</td>\n",
       "      <td>Ice hockey</td>\n",
       "      <td>NHL</td>\n",
       "      <td>T-Mobile Arena (17,500)</td>\n",
       "      <td>2017</td>\n",
       "      <td>1</td>\n",
       "    </tr>\n",
       "    <tr>\n",
       "      <th>2</th>\n",
       "      <td>Las Vegas Aces</td>\n",
       "      <td>Women's basketball</td>\n",
       "      <td>WNBA</td>\n",
       "      <td>Michelob Ultra Arena (12,000)</td>\n",
       "      <td>2018</td>\n",
       "      <td>1</td>\n",
       "    </tr>\n",
       "  </tbody>\n",
       "</table>\n",
       "</div>"
      ],
      "text/plain": [
       "                   Team               Sport League  \\\n",
       "0     Las Vegas Raiders            Football    NFL   \n",
       "1  Vegas Golden Knights          Ice hockey    NHL   \n",
       "2        Las Vegas Aces  Women's basketball   WNBA   \n",
       "\n",
       "                Venue (capacity)  Established Titles  \n",
       "0     Allegiant Stadium (65,000)         2020   3[c]  \n",
       "1        T-Mobile Arena (17,500)         2017      1  \n",
       "2  Michelob Ultra Arena (12,000)         2018      1  "
      ]
     },
     "execution_count": 13,
     "metadata": {},
     "output_type": "execute_result"
    }
   ],
   "source": [
    "df"
   ]
  },
  {
   "cell_type": "code",
   "execution_count": 18,
   "id": "e0c4e728",
   "metadata": {},
   "outputs": [],
   "source": [
    "# Specify the file path\n",
    "excel_file_path = r\"C:\\Users\\Luisa\\OneDrive\\Documents\\Data Practice\\Pandas\\LasVegasData.xlsx\"\n",
    "\n",
    "# Save the DataFrame to an Excel file\n",
    "df.to_excel(excel_file_path, index=False)\n"
   ]
  }
 ],
 "metadata": {
  "kernelspec": {
   "display_name": "Python 3 (ipykernel)",
   "language": "python",
   "name": "python3"
  },
  "language_info": {
   "codemirror_mode": {
    "name": "ipython",
    "version": 3
   },
   "file_extension": ".py",
   "mimetype": "text/x-python",
   "name": "python",
   "nbconvert_exporter": "python",
   "pygments_lexer": "ipython3",
   "version": "3.11.5"
  }
 },
 "nbformat": 4,
 "nbformat_minor": 5
}
